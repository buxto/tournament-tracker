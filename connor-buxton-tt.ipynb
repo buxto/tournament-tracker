{
 "cells": [
  {
   "cell_type": "markdown",
   "id": "de9e5af0",
   "metadata": {},
   "source": [
    "# Tournament Tracker\n",
    "### By Connor Buxton\n",
    "Allows the user to create a tournament, add and remove participants, print out the list of participants as well as save their work to a CSV file."
   ]
  },
  {
   "cell_type": "markdown",
   "id": "50c2789e",
   "metadata": {},
   "source": [
    "First, let's create the start where the user inputs the number of participants. If they don't input a number, discard their input and try asking them again."
   ]
  },
  {
   "cell_type": "code",
   "execution_count": 42,
   "id": "7c528064",
   "metadata": {
    "scrolled": true
   },
   "outputs": [
    {
     "name": "stdout",
     "output_type": "stream",
     "text": [
      "Enter the number of participants: 20\n"
     ]
    }
   ],
   "source": [
    "input_is_num = False\n",
    "\n",
    "while not input_is_num:\n",
    "    userNum = input('Enter the number of participants: ')\n",
    "\n",
    "    if userNum.isdecimal():\n",
    "        input_is_num = True\n",
    "    else:\n",
    "        print('That is not a number.')"
   ]
  },
  {
   "cell_type": "markdown",
   "id": "26bc983a",
   "metadata": {},
   "source": [
    "With the number of participants, we will initialize a dictionary with keys being numbers and values being participant names"
   ]
  },
  {
   "cell_type": "code",
   "execution_count": 43,
   "id": "dbd3fb2d",
   "metadata": {},
   "outputs": [],
   "source": [
    "userNum = int(userNum)\n",
    "\n",
    "participant_dict = {}\n",
    "\n",
    "for i in range(1, userNum+1):\n",
    "    participant_dict[i] = None"
   ]
  },
  {
   "cell_type": "markdown",
   "id": "1384d040",
   "metadata": {},
   "source": [
    "Next step is to define a function for our main menu. Since we will have a loop ongoing until the user decides to quit, it would be a good idea to use functions."
   ]
  },
  {
   "cell_type": "code",
   "execution_count": 44,
   "id": "df824230",
   "metadata": {},
   "outputs": [],
   "source": [
    "def main_menu():\n",
    "    print('Welcome to TournamentTracker!')\n",
    "    print('-----------------------------')\n",
    "    print('1. Sign Up')\n",
    "    print('2. Cancel Sign Up')\n",
    "    print('3. View Participants')\n",
    "    print('4. Save Changes')\n",
    "    print('5. Exit')\n",
    "    print()\n",
    "    \n",
    "    goodInput = False\n",
    "    while not goodInput:\n",
    "        userOption = input('What option would you like?: ')\n",
    "        if userOption.isdecimal():\n",
    "            userOption = int(userOption)\n",
    "            if userOption > 0 and userOption < 6:\n",
    "                return userOption\n",
    "                goodInput = True\n",
    "            else:\n",
    "                print('That number falls outside our options. Please try again.')\n",
    "                \n",
    "        else:\n",
    "            print('That input is not a number. Please try again.')"
   ]
  },
  {
   "cell_type": "markdown",
   "id": "bed919b4",
   "metadata": {},
   "source": [
    "Now that we have our main menu, let's make the participant sign up function:"
   ]
  },
  {
   "cell_type": "code",
   "execution_count": 45,
   "id": "49ba5e05",
   "metadata": {},
   "outputs": [],
   "source": [
    "def part_sign_up(userNum):\n",
    "    \n",
    "    if None not in participant_dict.values():\n",
    "        print('All slots are taken. Please cancel a slot if you\\'d like to change one.')\n",
    "\n",
    "    else:\n",
    "        good_slot = False\n",
    "\n",
    "        part_name = input('Participant Name: ')\n",
    "\n",
    "        while not good_slot:\n",
    "            part_slot = input('Desired Participant Slot #[1-%i]: ' % userNum)\n",
    "            if part_slot.isdecimal():\n",
    "                part_slot = int(part_slot)\n",
    "\n",
    "                if part_slot in participant_dict.keys():\n",
    "\n",
    "                    if participant_dict[part_slot] is None:\n",
    "                        participant_dict[part_slot] = part_name\n",
    "                        good_slot = True\n",
    "                        saveFlag = False\n",
    "                        return saveFlag\n",
    "                    else:\n",
    "                        print('That slot is already taken. Try another.')\n",
    "\n",
    "                else:\n",
    "                    print('Slot not in registry.')\n",
    "\n",
    "            else:\n",
    "                print('That is not a number. Try again.')\n"
   ]
  },
  {
   "cell_type": "markdown",
   "id": "1c3669d3",
   "metadata": {},
   "source": [
    "We also need a cancel sign up function which would free up a slot."
   ]
  },
  {
   "cell_type": "code",
   "execution_count": 46,
   "id": "d2b133f1",
   "metadata": {},
   "outputs": [],
   "source": [
    "def cancel_sign_up(userNum):\n",
    "    # request user name and slot - if both don't line up or exist, discard and try again\n",
    "    good_input = False\n",
    "    null_counter = 0\n",
    "    for i in range(1, userNum+1):\n",
    "        if participant_dict[i] == None:\n",
    "            null_counter = null_counter + 1\n",
    "    \n",
    "    if null_counter == len(participant_dict.items()):\n",
    "        # all empty - nothing to remove!\n",
    "        print('Sorry, there are no participants. Add participants before trying to remove them.')\n",
    "    \n",
    "    else:\n",
    "        while not good_input:\n",
    "            part_slot = input('Enter participant slot #[1-%i]: ' % userNum)\n",
    "            if part_slot.isdecimal():\n",
    "                part_slot = int(part_slot)\n",
    "\n",
    "                if part_slot < 1 or part_slot > userNum:\n",
    "                    print('Number out of range. Please try again.')\n",
    "                else:\n",
    "                    part_name = input('Enter participant name: ')\n",
    "\n",
    "                    if participant_dict[part_slot] == part_name:\n",
    "                        participant_dict[part_slot] = None\n",
    "                        print('Participant successfully removed.')\n",
    "                        good_input = True\n",
    "                        saveFlag = False\n",
    "                        return saveFlag\n",
    "                    else:\n",
    "                        print('There is no participant with that name in that slot. Try again.')\n",
    "\n",
    "            else:\n",
    "                print('That is not a number. Please try again.')\n"
   ]
  },
  {
   "cell_type": "markdown",
   "id": "670af032",
   "metadata": {},
   "source": [
    "We need a function to allow us to view participants:"
   ]
  },
  {
   "cell_type": "code",
   "execution_count": 47,
   "id": "d1e0d118",
   "metadata": {},
   "outputs": [],
   "source": [
    "def view_part(userNum):\n",
    "    good_input = False\n",
    "    \n",
    "    if userNum < 5:\n",
    "        # do not accept user input, just print what we've got\n",
    "        for i in range(1, userNum+1):\n",
    "            print(f'{i}: {participant_dict[i]}')\n",
    "            \n",
    "    else:\n",
    "        # we have more than 5, print more\n",
    "        \n",
    "        while not good_input:\n",
    "            view_input = input(f'Starting Slot #[1-{userNum}]: ')\n",
    "            \n",
    "            if view_input.isdecimal():\n",
    "                view_input = int(view_input)\n",
    "                if view_input < 0 or view_input > userNum:\n",
    "                    print('Number out of range. Try again.')\n",
    "                else:\n",
    "                    # main meat of this process\n",
    "                    lower_bound = view_input - 5\n",
    "                    upper_bound = view_input + 5\n",
    "                    print('Participant Slot: Participant Name')\n",
    "                    \n",
    "                    for x in range(lower_bound, view_input):\n",
    "                        if x in participant_dict.keys():\n",
    "                            print(f'{x}: {participant_dict[x]}')\n",
    "                    for y in range(view_input, upper_bound+1):\n",
    "                        if y in participant_dict.keys():\n",
    "                            print(f'{y}: {participant_dict[y]}')\n",
    "                    good_input = True\n",
    "            else:\n",
    "                print('That is not a number. Try again.')"
   ]
  },
  {
   "cell_type": "markdown",
   "id": "545fdf58",
   "metadata": {},
   "source": [
    "A way to save the changes is part of the exercise as well, so I've made a function for it below:"
   ]
  },
  {
   "cell_type": "code",
   "execution_count": 48,
   "id": "23de9c51",
   "metadata": {},
   "outputs": [],
   "source": [
    "def save_changes(userNum):\n",
    "\n",
    "    file_front = input('Enter filename to save as: ')\n",
    "    filename = file_front + '.csv'\n",
    "    \n",
    "    f = open(filename,'w')\n",
    "    for i in range(1, userNum+1):\n",
    "        f.write(f'{i}, {participant_dict[i]}\\n')\n",
    "        \n",
    "    saveFlag = True\n",
    "    return saveFlag"
   ]
  },
  {
   "cell_type": "markdown",
   "id": "090c7aeb",
   "metadata": {},
   "source": [
    "Finally, our exit function, which will return a flag to tell the main program to stop looping:"
   ]
  },
  {
   "cell_type": "code",
   "execution_count": 49,
   "id": "2001738b",
   "metadata": {},
   "outputs": [],
   "source": [
    "def user_exit(saveFlag):\n",
    "    good_input = False\n",
    "    exitFlag = False\n",
    "    \n",
    "    if saveFlag:\n",
    "        exitFlag = True\n",
    "    else:\n",
    "        while not good_input:\n",
    "            print('There are unsaved changes.')\n",
    "            double_check = input('Are you sure you want to exit? [y/n]: ')\n",
    "            if double_check == 'y':\n",
    "                exitFlag = True\n",
    "                good_input = True\n",
    "            elif double_check == 'n':\n",
    "                good_input = True\n",
    "                exitFlag = False\n",
    "            else:\n",
    "                print('I couldn\\'t understand that, please input a Y or N.')\n",
    "                \n",
    "    return exitFlag"
   ]
  },
  {
   "cell_type": "markdown",
   "id": "50aa4994",
   "metadata": {},
   "source": [
    "Now we can construct the main loop:"
   ]
  },
  {
   "cell_type": "code",
   "execution_count": 51,
   "id": "057e6949",
   "metadata": {},
   "outputs": [
    {
     "name": "stdout",
     "output_type": "stream",
     "text": [
      "Welcome to TournamentTracker!\n",
      "-----------------------------\n",
      "1. Sign Up\n",
      "2. Cancel Sign Up\n",
      "3. View Participants\n",
      "4. Save Changes\n",
      "5. Exit\n",
      "\n",
      "What option would you like?: 3\n",
      "Starting Slot #[1-20]: 1\n",
      "Participant Slot: Participant Name\n",
      "1: Connor Buxton\n",
      "2: None\n",
      "3: None\n",
      "4: None\n",
      "5: None\n",
      "6: None\n",
      "Welcome to TournamentTracker!\n",
      "-----------------------------\n",
      "1. Sign Up\n",
      "2. Cancel Sign Up\n",
      "3. View Participants\n",
      "4. Save Changes\n",
      "5. Exit\n",
      "\n",
      "What option would you like?: 1\n",
      "Participant Name: Joe Viewtiful\n",
      "Desired Participant Slot #[1-20]: 2\n",
      "Welcome to TournamentTracker!\n",
      "-----------------------------\n",
      "1. Sign Up\n",
      "2. Cancel Sign Up\n",
      "3. View Participants\n",
      "4. Save Changes\n",
      "5. Exit\n",
      "\n",
      "What option would you like?: 3\n",
      "Starting Slot #[1-20]: 1\n",
      "Participant Slot: Participant Name\n",
      "1: Connor Buxton\n",
      "2: Joe Viewtiful\n",
      "3: None\n",
      "4: None\n",
      "5: None\n",
      "6: None\n",
      "Welcome to TournamentTracker!\n",
      "-----------------------------\n",
      "1. Sign Up\n",
      "2. Cancel Sign Up\n",
      "3. View Participants\n",
      "4. Save Changes\n",
      "5. Exit\n",
      "\n",
      "What option would you like?: 5\n",
      "There are unsaved changes.\n",
      "Are you sure you want to exit? [y/n]: n\n",
      "Welcome to TournamentTracker!\n",
      "-----------------------------\n",
      "1. Sign Up\n",
      "2. Cancel Sign Up\n",
      "3. View Participants\n",
      "4. Save Changes\n",
      "5. Exit\n",
      "\n",
      "What option would you like?: 4\n",
      "Enter filename to save as: sample_output\n",
      "Welcome to TournamentTracker!\n",
      "-----------------------------\n",
      "1. Sign Up\n",
      "2. Cancel Sign Up\n",
      "3. View Participants\n",
      "4. Save Changes\n",
      "5. Exit\n",
      "\n",
      "What option would you like?: 5\n"
     ]
    }
   ],
   "source": [
    "exit_flag = False\n",
    "save_flag = True\n",
    "while not exit_flag:\n",
    "    userOption = main_menu()\n",
    "    \n",
    "    if userOption == 1:\n",
    "        save_flag = part_sign_up(userNum)\n",
    "    elif userOption == 2:\n",
    "        save_flag = cancel_sign_up(userNum)\n",
    "    elif userOption == 3:\n",
    "        view_part(userNum)\n",
    "    elif userOption == 4:\n",
    "        save_flag = save_changes(userNum)\n",
    "    elif userOption == 5:\n",
    "        exit_flag = user_exit(save_flag)\n",
    "        "
   ]
  },
  {
   "cell_type": "code",
   "execution_count": null,
   "id": "f8143a90",
   "metadata": {},
   "outputs": [],
   "source": []
  }
 ],
 "metadata": {
  "kernelspec": {
   "display_name": "Python 3 (ipykernel)",
   "language": "python",
   "name": "python3"
  },
  "language_info": {
   "codemirror_mode": {
    "name": "ipython",
    "version": 3
   },
   "file_extension": ".py",
   "mimetype": "text/x-python",
   "name": "python",
   "nbconvert_exporter": "python",
   "pygments_lexer": "ipython3",
   "version": "3.9.7"
  }
 },
 "nbformat": 4,
 "nbformat_minor": 5
}
